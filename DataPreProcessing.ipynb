{
 "cells": [
  {
   "cell_type": "code",
   "execution_count": 1,
   "id": "7acde727",
   "metadata": {},
   "outputs": [],
   "source": [
    "import pandas as pd\n",
    "import numpy as np"
   ]
  },
  {
   "cell_type": "code",
   "execution_count": 2,
   "id": "668b538a",
   "metadata": {},
   "outputs": [],
   "source": [
    "# Create dataframe from the training datset file\n",
    "df_train = pd.read_csv('datasets/train3.csv', header='infer', low_memory=False)\n",
    "\n",
    "# Create dataframe from the testing datset file\n",
    "df_test = pd.read_csv('datasets/test3.csv', header='infer', low_memory=False)"
   ]
  },
  {
   "cell_type": "code",
   "execution_count": 3,
   "id": "3631b9f1",
   "metadata": {},
   "outputs": [
    {
     "data": {
      "text/html": [
       "<div>\n",
       "<style scoped>\n",
       "    .dataframe tbody tr th:only-of-type {\n",
       "        vertical-align: middle;\n",
       "    }\n",
       "\n",
       "    .dataframe tbody tr th {\n",
       "        vertical-align: top;\n",
       "    }\n",
       "\n",
       "    .dataframe thead th {\n",
       "        text-align: right;\n",
       "    }\n",
       "</style>\n",
       "<table border=\"1\" class=\"dataframe\">\n",
       "  <thead>\n",
       "    <tr style=\"text-align: right;\">\n",
       "      <th></th>\n",
       "      <th>ID</th>\n",
       "      <th>Text</th>\n",
       "    </tr>\n",
       "  </thead>\n",
       "  <tbody>\n",
       "    <tr>\n",
       "      <th>0</th>\n",
       "      <td>178</td>\n",
       "      <td>!:)I could pass out here and survive the zombi...</td>\n",
       "    </tr>\n",
       "    <tr>\n",
       "      <th>1</th>\n",
       "      <td>344</td>\n",
       "      <td>15% tips sneaked into our bill even though we ...</td>\n",
       "    </tr>\n",
       "    <tr>\n",
       "      <th>2</th>\n",
       "      <td>2324</td>\n",
       "      <td>How bad could it be? I thought  After all  its...</td>\n",
       "    </tr>\n",
       "    <tr>\n",
       "      <th>3</th>\n",
       "      <td>3217</td>\n",
       "      <td>Jordan is awesome! I have a lot of muscle tens...</td>\n",
       "    </tr>\n",
       "    <tr>\n",
       "      <th>4</th>\n",
       "      <td>3705</td>\n",
       "      <td>Micheals Arts and CraftsWell  they live under ...</td>\n",
       "    </tr>\n",
       "    <tr>\n",
       "      <th>...</th>\n",
       "      <td>...</td>\n",
       "      <td>...</td>\n",
       "    </tr>\n",
       "    <tr>\n",
       "      <th>13995</th>\n",
       "      <td>6662447</td>\n",
       "      <td>wifi doesnt work  Also  even it works  it is v...</td>\n",
       "    </tr>\n",
       "    <tr>\n",
       "      <th>13996</th>\n",
       "      <td>6662575</td>\n",
       "      <td>wish I could select zero stars   This place wa...</td>\n",
       "    </tr>\n",
       "    <tr>\n",
       "      <th>13997</th>\n",
       "      <td>6664830</td>\n",
       "      <td>ya know this place is so good  and so unassumi...</td>\n",
       "    </tr>\n",
       "    <tr>\n",
       "      <th>13998</th>\n",
       "      <td>6665591</td>\n",
       "      <td>you definitely dont want to bring a first date...</td>\n",
       "    </tr>\n",
       "    <tr>\n",
       "      <th>13999</th>\n",
       "      <td>6666002</td>\n",
       "      <td>yum the grilled pineapple is amazing  The pork...</td>\n",
       "    </tr>\n",
       "  </tbody>\n",
       "</table>\n",
       "<p>14000 rows × 2 columns</p>\n",
       "</div>"
      ],
      "text/plain": [
       "            ID                                               Text\n",
       "0          178  !:)I could pass out here and survive the zombi...\n",
       "1          344  15% tips sneaked into our bill even though we ...\n",
       "2         2324  How bad could it be? I thought  After all  its...\n",
       "3         3217  Jordan is awesome! I have a lot of muscle tens...\n",
       "4         3705  Micheals Arts and CraftsWell  they live under ...\n",
       "...        ...                                                ...\n",
       "13995  6662447  wifi doesnt work  Also  even it works  it is v...\n",
       "13996  6662575  wish I could select zero stars   This place wa...\n",
       "13997  6664830  ya know this place is so good  and so unassumi...\n",
       "13998  6665591  you definitely dont want to bring a first date...\n",
       "13999  6666002  yum the grilled pineapple is amazing  The pork...\n",
       "\n",
       "[14000 rows x 2 columns]"
      ]
     },
     "execution_count": 3,
     "metadata": {},
     "output_type": "execute_result"
    }
   ],
   "source": [
    "# Check if dataframes looks good\n",
    "df_train\n",
    "\n",
    "df_test"
   ]
  },
  {
   "cell_type": "code",
   "execution_count": 4,
   "id": "6729bb03",
   "metadata": {},
   "outputs": [
    {
     "name": "stdout",
     "output_type": "stream",
     "text": [
      "<class 'pandas.core.frame.DataFrame'>\n",
      "RangeIndex: 56000 entries, 0 to 55999\n",
      "Data columns (total 3 columns):\n",
      " #   Column  Non-Null Count  Dtype \n",
      "---  ------  --------------  ----- \n",
      " 0   Text    56000 non-null  object\n",
      " 1   Class   56000 non-null  object\n",
      " 2   ID      56000 non-null  int64 \n",
      "dtypes: int64(1), object(2)\n",
      "memory usage: 875.1+ KB\n",
      "<class 'pandas.core.frame.DataFrame'>\n",
      "RangeIndex: 14000 entries, 0 to 13999\n",
      "Data columns (total 2 columns):\n",
      " #   Column  Non-Null Count  Dtype \n",
      "---  ------  --------------  ----- \n",
      " 0   ID      14000 non-null  int64 \n",
      " 1   Text    14000 non-null  object\n",
      "dtypes: int64(1), object(1)\n",
      "memory usage: 164.1+ KB\n"
     ]
    }
   ],
   "source": [
    "# View all columns and their data types\n",
    "df_train.info()\n",
    "\n",
    "df_test.info()"
   ]
  },
  {
   "cell_type": "code",
   "execution_count": 5,
   "id": "f5502e09",
   "metadata": {},
   "outputs": [],
   "source": [
    "# Remove ID columns from both dataframes\n",
    "del df_train['ID']\n",
    "del df_test['ID']"
   ]
  },
  {
   "cell_type": "code",
   "execution_count": null,
   "id": "a0322f4b",
   "metadata": {},
   "outputs": [],
   "source": []
  },
  {
   "cell_type": "code",
   "execution_count": null,
   "id": "1b4b76f3",
   "metadata": {},
   "outputs": [],
   "source": [
    "# Write out the pr processed training and test dataframes to a csv file\n",
    "# df_train.to_csv('processed_training_data.csv', index=False)\n",
    "# df_test.to_csv('processed_test_data.csv', index=False)\n",
    "\n",
    "# Done"
   ]
  }
 ],
 "metadata": {
  "kernelspec": {
   "display_name": "Python 3 (ipykernel)",
   "language": "python",
   "name": "python3"
  },
  "language_info": {
   "codemirror_mode": {
    "name": "ipython",
    "version": 3
   },
   "file_extension": ".py",
   "mimetype": "text/x-python",
   "name": "python",
   "nbconvert_exporter": "python",
   "pygments_lexer": "ipython3",
   "version": "3.7.0"
  }
 },
 "nbformat": 4,
 "nbformat_minor": 5
}
